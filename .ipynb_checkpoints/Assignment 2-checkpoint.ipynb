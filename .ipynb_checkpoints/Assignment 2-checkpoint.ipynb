{
 "cells": [
  {
   "cell_type": "code",
   "execution_count": 1,
   "metadata": {},
   "outputs": [
    {
     "name": "stdout",
     "output_type": "stream",
     "text": [
      "Brandon Huegerich - ITCS3134-001\n"
     ]
    }
   ],
   "source": [
    "print(\"Brandon Huegerich - ITCS3134-001\")"
   ]
  },
  {
   "cell_type": "code",
   "execution_count": 5,
   "metadata": {},
   "outputs": [
    {
     "name": "stdout",
     "output_type": "stream",
     "text": [
      "0\n",
      "2\n",
      "4\n",
      "6\n",
      "8\n",
      "10\n"
     ]
    }
   ],
   "source": [
    "i = 0\n",
    "while i<=5:\n",
    "    print(i*2)\n",
    "    i = i + 1"
   ]
  },
  {
   "cell_type": "code",
   "execution_count": 16,
   "metadata": {},
   "outputs": [
    {
     "name": "stdout",
     "output_type": "stream",
     "text": [
      "Enter first number: \n",
      "2\n",
      "Enter second number: \n",
      "4\n",
      "first plus second number is: 6\n"
     ]
    }
   ],
   "source": [
    "print(\"Enter first number: \")\n",
    "x = input()\n",
    "x = int(x)\n",
    "print(\"Enter second number: \")\n",
    "y = input()\n",
    "y = int(y)\n",
    "print(\"first plus second number is:\", x+y)\n"
   ]
  },
  {
   "cell_type": "code",
   "execution_count": null,
   "metadata": {},
   "outputs": [],
   "source": [
    "arr = [\"A\",\"B\",\"C\",\"D\",\"E\"]\n",
    "start = 0\n",
    "end = len(arr) - 1\n",
    "while True:\n",
    "    temp = arr[start]\n",
    "    arr[start] = arr[end]\n",
    "    arr[end] = temp\n",
    "    start = start + 1\n",
    "    end = end - 1\n",
    "    if(start = end):\n",
    "        break\n"
   ]
  },
  {
   "cell_type": "code",
   "execution_count": null,
   "metadata": {},
   "outputs": [],
   "source": []
  },
  {
   "cell_type": "code",
   "execution_count": null,
   "metadata": {},
   "outputs": [],
   "source": []
  }
 ],
 "metadata": {
  "kernelspec": {
   "display_name": "Python 3",
   "language": "python",
   "name": "python3"
  },
  "language_info": {
   "codemirror_mode": {
    "name": "ipython",
    "version": 3
   },
   "file_extension": ".py",
   "mimetype": "text/x-python",
   "name": "python",
   "nbconvert_exporter": "python",
   "pygments_lexer": "ipython3",
   "version": "3.7.1"
  }
 },
 "nbformat": 4,
 "nbformat_minor": 2
}
